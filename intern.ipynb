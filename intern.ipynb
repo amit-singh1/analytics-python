{
 "cells": [
  {
   "cell_type": "code",
   "execution_count": 1,
   "metadata": {},
   "outputs": [],
   "source": [
    "import pandas as pd\n",
    "import seaborn as sns"
   ]
  },
  {
   "cell_type": "code",
   "execution_count": 4,
   "metadata": {},
   "outputs": [],
   "source": [
    "dataframe=pd.read_excel('QVI_transaction_data.xlsx')"
   ]
  },
  {
   "cell_type": "code",
   "execution_count": 5,
   "metadata": {},
   "outputs": [
    {
     "name": "stdout",
     "output_type": "stream",
     "text": [
      "                                        TOT_SALES  PROD_QTY\n",
      "PROD_NAME                                                  \n",
      "Burger Rings 220g                        4.367647  1.898977\n",
      "CCs Nacho Cheese    175g                 3.979907  1.895194\n",
      "CCs Original 175g                        3.994716  1.902246\n",
      "CCs Tasty Cheese    175g                 3.943470  1.877843\n",
      "Cheetos Chs & Bacon Balls 190g           6.249696  1.893847\n",
      "...                                           ...       ...\n",
      "WW Sour Cream &OnionStacked Chips 160g   3.589885  1.889413\n",
      "WW Supreme Cheese   Corn Chips 200g      3.572101  1.880053\n",
      "Woolworths Cheese   Rings 190g           3.410026  1.894459\n",
      "Woolworths Medium   Salsa 300g           2.832168  1.888112\n",
      "Woolworths Mild     Salsa 300g           2.840040  1.893360\n",
      "\n",
      "[114 rows x 2 columns]\n"
     ]
    },
    {
     "data": {
      "text/html": [
       "<div>\n",
       "<style scoped>\n",
       "    .dataframe tbody tr th:only-of-type {\n",
       "        vertical-align: middle;\n",
       "    }\n",
       "\n",
       "    .dataframe tbody tr th {\n",
       "        vertical-align: top;\n",
       "    }\n",
       "\n",
       "    .dataframe thead th {\n",
       "        text-align: right;\n",
       "    }\n",
       "</style>\n",
       "<table border=\"1\" class=\"dataframe\">\n",
       "  <thead>\n",
       "    <tr style=\"text-align: right;\">\n",
       "      <th></th>\n",
       "      <th>DATE</th>\n",
       "      <th>STORE_NBR</th>\n",
       "      <th>LYLTY_CARD_NBR</th>\n",
       "      <th>TXN_ID</th>\n",
       "      <th>PROD_NBR</th>\n",
       "      <th>PROD_NAME</th>\n",
       "      <th>PROD_QTY</th>\n",
       "      <th>TOT_SALES</th>\n",
       "    </tr>\n",
       "  </thead>\n",
       "  <tbody>\n",
       "    <tr>\n",
       "      <th>0</th>\n",
       "      <td>43390</td>\n",
       "      <td>1</td>\n",
       "      <td>1000</td>\n",
       "      <td>1</td>\n",
       "      <td>5</td>\n",
       "      <td>Natural Chip        Compny SeaSalt175g</td>\n",
       "      <td>2</td>\n",
       "      <td>6.0</td>\n",
       "    </tr>\n",
       "    <tr>\n",
       "      <th>1</th>\n",
       "      <td>43599</td>\n",
       "      <td>1</td>\n",
       "      <td>1307</td>\n",
       "      <td>348</td>\n",
       "      <td>66</td>\n",
       "      <td>CCs Nacho Cheese    175g</td>\n",
       "      <td>3</td>\n",
       "      <td>6.3</td>\n",
       "    </tr>\n",
       "    <tr>\n",
       "      <th>2</th>\n",
       "      <td>43605</td>\n",
       "      <td>1</td>\n",
       "      <td>1343</td>\n",
       "      <td>383</td>\n",
       "      <td>61</td>\n",
       "      <td>Smiths Crinkle Cut  Chips Chicken 170g</td>\n",
       "      <td>2</td>\n",
       "      <td>2.9</td>\n",
       "    </tr>\n",
       "    <tr>\n",
       "      <th>3</th>\n",
       "      <td>43329</td>\n",
       "      <td>2</td>\n",
       "      <td>2373</td>\n",
       "      <td>974</td>\n",
       "      <td>69</td>\n",
       "      <td>Smiths Chip Thinly  S/Cream&amp;Onion 175g</td>\n",
       "      <td>5</td>\n",
       "      <td>15.0</td>\n",
       "    </tr>\n",
       "    <tr>\n",
       "      <th>4</th>\n",
       "      <td>43330</td>\n",
       "      <td>2</td>\n",
       "      <td>2426</td>\n",
       "      <td>1038</td>\n",
       "      <td>108</td>\n",
       "      <td>Kettle Tortilla ChpsHny&amp;Jlpno Chili 150g</td>\n",
       "      <td>3</td>\n",
       "      <td>13.8</td>\n",
       "    </tr>\n",
       "    <tr>\n",
       "      <th>...</th>\n",
       "      <td>...</td>\n",
       "      <td>...</td>\n",
       "      <td>...</td>\n",
       "      <td>...</td>\n",
       "      <td>...</td>\n",
       "      <td>...</td>\n",
       "      <td>...</td>\n",
       "      <td>...</td>\n",
       "    </tr>\n",
       "    <tr>\n",
       "      <th>264831</th>\n",
       "      <td>43533</td>\n",
       "      <td>272</td>\n",
       "      <td>272319</td>\n",
       "      <td>270088</td>\n",
       "      <td>89</td>\n",
       "      <td>Kettle Sweet Chilli And Sour Cream 175g</td>\n",
       "      <td>2</td>\n",
       "      <td>10.8</td>\n",
       "    </tr>\n",
       "    <tr>\n",
       "      <th>264832</th>\n",
       "      <td>43325</td>\n",
       "      <td>272</td>\n",
       "      <td>272358</td>\n",
       "      <td>270154</td>\n",
       "      <td>74</td>\n",
       "      <td>Tostitos Splash Of  Lime 175g</td>\n",
       "      <td>1</td>\n",
       "      <td>4.4</td>\n",
       "    </tr>\n",
       "    <tr>\n",
       "      <th>264833</th>\n",
       "      <td>43410</td>\n",
       "      <td>272</td>\n",
       "      <td>272379</td>\n",
       "      <td>270187</td>\n",
       "      <td>51</td>\n",
       "      <td>Doritos Mexicana    170g</td>\n",
       "      <td>2</td>\n",
       "      <td>8.8</td>\n",
       "    </tr>\n",
       "    <tr>\n",
       "      <th>264834</th>\n",
       "      <td>43461</td>\n",
       "      <td>272</td>\n",
       "      <td>272379</td>\n",
       "      <td>270188</td>\n",
       "      <td>42</td>\n",
       "      <td>Doritos Corn Chip Mexican Jalapeno 150g</td>\n",
       "      <td>2</td>\n",
       "      <td>7.8</td>\n",
       "    </tr>\n",
       "    <tr>\n",
       "      <th>264835</th>\n",
       "      <td>43365</td>\n",
       "      <td>272</td>\n",
       "      <td>272380</td>\n",
       "      <td>270189</td>\n",
       "      <td>74</td>\n",
       "      <td>Tostitos Splash Of  Lime 175g</td>\n",
       "      <td>2</td>\n",
       "      <td>8.8</td>\n",
       "    </tr>\n",
       "  </tbody>\n",
       "</table>\n",
       "<p>264836 rows × 8 columns</p>\n",
       "</div>"
      ],
      "text/plain": [
       "         DATE  STORE_NBR  LYLTY_CARD_NBR  TXN_ID  PROD_NBR  \\\n",
       "0       43390          1            1000       1         5   \n",
       "1       43599          1            1307     348        66   \n",
       "2       43605          1            1343     383        61   \n",
       "3       43329          2            2373     974        69   \n",
       "4       43330          2            2426    1038       108   \n",
       "...       ...        ...             ...     ...       ...   \n",
       "264831  43533        272          272319  270088        89   \n",
       "264832  43325        272          272358  270154        74   \n",
       "264833  43410        272          272379  270187        51   \n",
       "264834  43461        272          272379  270188        42   \n",
       "264835  43365        272          272380  270189        74   \n",
       "\n",
       "                                       PROD_NAME  PROD_QTY  TOT_SALES  \n",
       "0         Natural Chip        Compny SeaSalt175g         2        6.0  \n",
       "1                       CCs Nacho Cheese    175g         3        6.3  \n",
       "2         Smiths Crinkle Cut  Chips Chicken 170g         2        2.9  \n",
       "3         Smiths Chip Thinly  S/Cream&Onion 175g         5       15.0  \n",
       "4       Kettle Tortilla ChpsHny&Jlpno Chili 150g         3       13.8  \n",
       "...                                          ...       ...        ...  \n",
       "264831   Kettle Sweet Chilli And Sour Cream 175g         2       10.8  \n",
       "264832             Tostitos Splash Of  Lime 175g         1        4.4  \n",
       "264833                  Doritos Mexicana    170g         2        8.8  \n",
       "264834   Doritos Corn Chip Mexican Jalapeno 150g         2        7.8  \n",
       "264835             Tostitos Splash Of  Lime 175g         2        8.8  \n",
       "\n",
       "[264836 rows x 8 columns]"
      ]
     },
     "execution_count": 5,
     "metadata": {},
     "output_type": "execute_result"
    }
   ],
   "source": [
    "CustID_grouped = dataframe.groupby(\"PROD_NAME\")\n",
    "dataframe_mean=CustID_grouped.mean()\n",
    "print(dataframe_mean[['TOT_SALES','PROD_QTY']])\n",
    "dataframe.dropna(axis=1)"
   ]
  },
  {
   "cell_type": "code",
   "execution_count": 15,
   "metadata": {},
   "outputs": [
    {
     "name": "stdout",
     "output_type": "stream",
     "text": [
      "                                       PROD_QTY                                \\\n",
      "                                          count      mean       std  min  25%   \n",
      "PROD_NAME                                                                       \n",
      "Burger Rings 220g                        1564.0  1.898977  0.395139  1.0  2.0   \n",
      "CCs Nacho Cheese    175g                 1498.0  1.895194  0.351108  1.0  2.0   \n",
      "CCs Original 175g                        1514.0  1.902246  0.357649  1.0  2.0   \n",
      "CCs Tasty Cheese    175g                 1539.0  1.877843  0.379098  1.0  2.0   \n",
      "Cheetos Chs & Bacon Balls 190g           1479.0  1.893847  0.368163  1.0  2.0   \n",
      "...                                         ...       ...       ...  ...  ...   \n",
      "WW Sour Cream &OnionStacked Chips 160g   1483.0  1.889413  0.385170  1.0  2.0   \n",
      "WW Supreme Cheese   Corn Chips 200g      1509.0  1.880053  0.338989  1.0  2.0   \n",
      "Woolworths Cheese   Rings 190g           1516.0  1.894459  0.358870  1.0  2.0   \n",
      "Woolworths Medium   Salsa 300g           1430.0  1.888112  0.356974  1.0  2.0   \n",
      "Woolworths Mild     Salsa 300g           1491.0  1.893360  0.392928  1.0  2.0   \n",
      "\n",
      "                                                      TOT_SALES            \\\n",
      "                                        50%  75%  max     count      mean   \n",
      "PROD_NAME                                                                   \n",
      "Burger Rings 220g                       2.0  2.0  5.0    1564.0  4.367647   \n",
      "CCs Nacho Cheese    175g                2.0  2.0  5.0    1498.0  3.979907   \n",
      "CCs Original 175g                       2.0  2.0  5.0    1514.0  3.994716   \n",
      "CCs Tasty Cheese    175g                2.0  2.0  5.0    1539.0  3.943470   \n",
      "Cheetos Chs & Bacon Balls 190g          2.0  2.0  5.0    1479.0  6.249696   \n",
      "...                                     ...  ...  ...       ...       ...   \n",
      "WW Sour Cream &OnionStacked Chips 160g  2.0  2.0  5.0    1483.0  3.589885   \n",
      "WW Supreme Cheese   Corn Chips 200g     2.0  2.0  5.0    1509.0  3.572101   \n",
      "Woolworths Cheese   Rings 190g          2.0  2.0  5.0    1516.0  3.410026   \n",
      "Woolworths Medium   Salsa 300g          2.0  2.0  5.0    1430.0  2.832168   \n",
      "Woolworths Mild     Salsa 300g          2.0  2.0  5.0    1491.0  2.840040   \n",
      "\n",
      "                                                                            \n",
      "                                             std  min  25%  50%  75%   max  \n",
      "PROD_NAME                                                                   \n",
      "Burger Rings 220g                       0.908819  2.3  4.6  4.6  4.6  11.5  \n",
      "CCs Nacho Cheese    175g                0.737327  2.1  4.2  4.2  4.2  10.5  \n",
      "CCs Original 175g                       0.751063  2.1  4.2  4.2  4.2  10.5  \n",
      "CCs Tasty Cheese    175g                0.796106  2.1  4.2  4.2  4.2  10.5  \n",
      "Cheetos Chs & Bacon Balls 190g          1.214938  3.3  6.6  6.6  6.6  16.5  \n",
      "...                                          ...  ...  ...  ...  ...   ...  \n",
      "WW Sour Cream &OnionStacked Chips 160g  0.731824  1.9  3.8  3.8  3.8   9.5  \n",
      "WW Supreme Cheese   Corn Chips 200g     0.644079  1.9  3.8  3.8  3.8   9.5  \n",
      "Woolworths Cheese   Rings 190g          0.645966  1.8  3.6  3.6  3.6   9.0  \n",
      "Woolworths Medium   Salsa 300g          0.535461  1.5  3.0  3.0  3.0   7.5  \n",
      "Woolworths Mild     Salsa 300g          0.589391  1.5  3.0  3.0  3.0   7.5  \n",
      "\n",
      "[114 rows x 16 columns]\n"
     ]
    },
    {
     "data": {
      "text/plain": [
       "LYLTY_CARD_NBR      72637\n",
       "LIFESTAGE           72637\n",
       "PREMIUM_CUSTOMER    72637\n",
       "dtype: int64"
      ]
     },
     "execution_count": 15,
     "metadata": {},
     "output_type": "execute_result"
    }
   ],
   "source": [
    "CustID_grouped = dataframe.groupby(\"PROD_NAME\")\n",
    "CustID = CustID_grouped[['PROD_QTY','TOT_SALES']].describe()\n",
    "print(CustID)\n",
    "dataframe2 = pd.read_csv('QVI_purchase_behaviour.csv')\n",
    "dataframe2.groupby('PREMIUM_CUSTOMER')\n",
    "dataframe2.count()"
   ]
  },
  {
   "cell_type": "raw",
   "metadata": {},
   "source": []
  },
  {
   "cell_type": "code",
   "execution_count": 16,
   "metadata": {},
   "outputs": [
    {
     "data": {
      "text/plain": [
       "LYLTY_CARD_NBR      72637\n",
       "LIFESTAGE           72637\n",
       "PREMIUM_CUSTOMER    72637\n",
       "dtype: int64"
      ]
     },
     "execution_count": 16,
     "metadata": {},
     "output_type": "execute_result"
    }
   ],
   "source": [
    "dataframe2.groupby('LIFESTAGE')\n",
    "dataframe2.count()"
   ]
  },
  {
   "cell_type": "code",
   "execution_count": 12,
   "metadata": {},
   "outputs": [
    {
     "data": {
      "image/png": "[encoded data removed]",
      "text/plain": [
       "<Figure size 360x360 with 1 Axes>"
      ]
     },
     "metadata": {
      "needs_background": "light"
     },
     "output_type": "display_data"
    }
   ],
   "source": [
    "sns.relplot(x=\"PROD_QTY\", y=\"TOT_SALES\",  data=dataframe_mean);"
   ]
  },
  {
   "cell_type": "code",
   "execution_count": null,
   "metadata": {},
   "outputs": [],
   "source": [
    "sns.catplot(x=\"TOT_SALES\", y=\"PROD_NBR\", hue=\"PROD_QTY\", kind=\"swarm\", data=dataframe)"
   ]
  },
  {
   "cell_type": "code",
   "execution_count": 20,
   "metadata": {},
   "outputs": [
    {
     "data": {
      "image/png": "[encoded data removed]",
      "text/plain": [
       "<Figure size 360x360 with 1 Axes>"
      ]
     },
     "metadata": {
      "needs_background": "light"
     },
     "output_type": "display_data"
    }
   ],
   "source": [
    "sns.catplot(x=\"TOT_SALES\", y=\"PROD_NBR\" , kind=\"swarm\", data=dataframe_mean);\n"
   ]
  },
  {
   "cell_type": "code",
   "execution_count": null,
   "metadata": {},
   "outputs": [],
   "source": []
  }
 ],
 "metadata": {
  "kernelspec": {
   "display_name": "Python 3",
   "language": "python",
   "name": "python3"
  },
  "language_info": {
   "codemirror_mode": {
    "name": "ipython",
    "version": 3
   },
   "file_extension": ".py",
   "mimetype": "text/x-python",
   "name": "python",
   "nbconvert_exporter": "python",
   "pygments_lexer": "ipython3",
   "version": "3.7.6"
  }
 },
 "nbformat": 4,
 "nbformat_minor": 4
}
